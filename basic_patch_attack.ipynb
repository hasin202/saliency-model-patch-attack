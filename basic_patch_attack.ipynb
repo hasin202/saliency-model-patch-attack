{
 "cells": [
  {
   "cell_type": "code",
   "execution_count": 2,
   "metadata": {},
   "outputs": [
    {
     "name": "stdout",
     "output_type": "stream",
     "text": [
      "All imports successful\n"
     ]
    }
   ],
   "source": [
    "import torch\n",
    "from torchvision import transforms\n",
    "from IPython.display import display\n",
    "from utils.loss_function import SaliencyLoss\n",
    "\n",
    "print(\"All imports successful\")"
   ]
  },
  {
   "cell_type": "code",
   "execution_count": 3,
   "metadata": {},
   "outputs": [
    {
     "name": "stdout",
     "output_type": "stream",
     "text": [
      "Model imported successfully\n"
     ]
    }
   ],
   "source": [
    "device = torch.device(\"cuda:0\" if torch.cuda.is_available() else \"cpu\")\n",
    "\n",
    "from TranSalNet_Res import TranSalNet\n",
    "model = TranSalNet()\n",
    "model.load_state_dict(torch.load(r'pretrained_models/TranSalNet_Res.pth', map_location=torch.device('cpu')))\n",
    "\n",
    "model = model.to(device) \n",
    "model.eval()\n",
    "\n",
    "print(\"Model imported successfully\")"
   ]
  },
  {
   "cell_type": "code",
   "execution_count": null,
   "metadata": {},
   "outputs": [],
   "source": [
    "#TARGET TWO CIRCLES\n",
    "target = torch.zeros(1, 1, 288, 384)\n",
    "\n",
    "cx1, cy1 = target.shape[2] / 1.2, target.shape[3] / 1.3\n",
    "cx2, cy2 = target.shape[2] /3, target.shape[2] /4.1 \n",
    "\n",
    "max_dist1, max_dist2 = 100, 100  # set max distances for both circles\n",
    "\n",
    "xx, yy = torch.meshgrid(torch.linspace(0, target.shape[2] - 1, target.shape[2]), torch.linspace(0, target.shape[3] - 1, target.shape[3]))\n",
    "distances1 = torch.sqrt((xx - cx1) ** 2 + (yy - cy1) ** 2)\n",
    "distances2 = torch.sqrt((xx - cx2) ** 2 + (yy - cy2) ** 2)\n",
    "\n",
    "values = torch.clamp(1 - distances1 / max_dist1, 0) + torch.clamp(1 - distances2 / max_dist2, 0)  # add the two circle values together\n",
    "\n",
    "target[0, 0, :, :] = values\n",
    "print(target.shape)\n",
    "\n",
    "toPIL = transforms.ToPILImage()\n",
    "pic = toPIL(target.squeeze())\n",
    "display(pic)\n",
    "\n",
    "\n"
   ]
  },
  {
   "cell_type": "code",
   "execution_count": null,
   "metadata": {},
   "outputs": [],
   "source": [
    "#TARGET CORNER\n",
    "\n",
    "target = torch.zeros(1, 1, 288, 384)\n",
    "\n",
    "# Set the top right of the tensor to white\n",
    "target[:, :, :target.shape[2]//2, target.shape[2]//2:] = 1.0\n",
    "\n",
    "pic = toPIL(target.squeeze())\n",
    "display(pic)"
   ]
  },
  {
   "cell_type": "code",
   "execution_count": null,
   "metadata": {},
   "outputs": [],
   "source": [
    "#INIT PATCH FOR BASIC PATCH ATTACK\n",
    "\n",
    "def init_patch():\n",
    "    #setting rand_patch to be initialized with 0's or 1's makes a significant difference in the output.\n",
    "    #both outputs look very different but still acheieve the desired goal\n",
    "    patch = torch.rand(1,3,288,384)\n",
    "\n",
    "    transform = transforms.ToPILImage()\n",
    "    img = transform(patch.squeeze())\n",
    "    display(img)\n",
    "\n",
    "    return patch\n",
    "\n",
    "\n",
    "first_patch = init_patch()\n",
    "first_patch = first_patch.type(torch.FloatTensor).to(device)\n",
    "\n",
    "patch_saliency = model(first_patch)\n",
    "\n",
    "toPIL = transforms.ToPILImage()\n",
    "display(toPIL(patch_saliency.squeeze()))"
   ]
  },
  {
   "cell_type": "code",
   "execution_count": null,
   "metadata": {},
   "outputs": [],
   "source": [
    "#PERFORM PATCH ATTACK ON TO TARGET SALIENCY TOWARD CERTAIN LOCATIONS\n",
    "import cv2\n",
    "def patch_attack(patch, target_saliency, loss_target, lr):\n",
    "    #import loss functions\n",
    "    loss_fn=SaliencyLoss()\n",
    "    #init loss to be high as for kl div the lower the loss the better\n",
    "    loss=0\n",
    "\n",
    "    #continue updating the patch until they are similar enough, determined by a threshold set by you\n",
    "    while loss_target > loss:\n",
    "\n",
    "        print('------------------------------------------')\n",
    "        patch = patch.clone().detach().requires_grad_(True)\n",
    "\n",
    "        #get saliency map for patch\n",
    "        out = model(patch)\n",
    "        loss = loss_fn(out,target_saliency,loss_type='cc')\n",
    "        loss.backward()\n",
    "\n",
    "        \n",
    "\n",
    "        #update patch values\n",
    "        patch = patch + (patch.grad * lr)\n",
    "\n",
    "        print(loss)\n",
    "\n",
    "    return patch\n",
    "    \n",
    "final_patch = patch_attack(first_patch,target, loss_target = 0.8, lr=1)\n",
    "display(toPIL(final_patch.squeeze()))\n"
   ]
  },
  {
   "cell_type": "code",
   "execution_count": null,
   "metadata": {},
   "outputs": [],
   "source": [
    "import matplotlib.pyplot as plt\n",
    "\n",
    "plt.imshow(final_patch.squeeze().detach().permute(1,2,0))\n",
    "plt.axis(\"off\")"
   ]
  }
 ],
 "metadata": {
  "kernelspec": {
   "display_name": "Python 3.8 (tensorflow)",
   "language": "python",
   "name": "tensorflow"
  },
  "language_info": {
   "codemirror_mode": {
    "name": "ipython",
    "version": 3
   },
   "file_extension": ".py",
   "mimetype": "text/x-python",
   "name": "python",
   "nbconvert_exporter": "python",
   "pygments_lexer": "ipython3",
   "version": "3.9.12"
  },
  "orig_nbformat": 4
 },
 "nbformat": 4,
 "nbformat_minor": 2
}
