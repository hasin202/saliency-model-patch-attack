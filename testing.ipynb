{
 "cells": [
  {
   "cell_type": "code",
   "execution_count": 1,
   "id": "psychological-prior",
   "metadata": {},
   "outputs": [],
   "source": [
    "import os\n",
    "import torch\n",
    "import cv2\n",
    "import numpy as np\n",
    "from torchvision import transforms, utils, models\n",
    "import torch.nn as nn\n",
    "from tqdm import tqdm\n",
    "from utils.data_process import preprocess_img, postprocess_img\n",
    "from PIL import Image\n",
    "\n",
    "device = torch.device(\"cuda:0\" if torch.cuda.is_available() else \"cpu\")\n",
    "\n",
    "flag = 0 # 0 for TranSalNet_Dense, 1 for TranSalNet_Res"
   ]
  },
  {
   "attachments": {},
   "cell_type": "markdown",
   "id": "rental-fetish",
   "metadata": {},
   "source": [
    "↑↑↑  Set **flag=1** to load *TranSalNet_Dense*,set **flag=0** to load *TranSalNet_Res*. <br>\n",
    "<br>\n",
    "↓↓↓  Load the model and pre-trained parameters.<br>"
   ]
  },
  {
   "cell_type": "code",
   "execution_count": null,
   "id": "conservative-salmon",
   "metadata": {},
   "outputs": [],
   "source": [
    "from TranSalNet_Res import TranSalNet\n",
    "model = TranSalNet()\n",
    "model.load_state_dict(torch.load(r'pretrained_models/TranSalNet_Res.pth', map_location=torch.device('cpu')))\n",
    "\n",
    "model = model.to(device) \n",
    "model.eval()"
   ]
  },
  {
   "attachments": {},
   "cell_type": "markdown",
   "id": "global-swing",
   "metadata": {},
   "source": [
    "↓↓↓ Get the test image, feed it into the model, and get a result."
   ]
  },
  {
   "cell_type": "code",
   "execution_count": null,
   "id": "stylish-internship",
   "metadata": {},
   "outputs": [],
   "source": [
    "test_img = r'./example/BenchmarkIMAGES/i33.jpg' \n",
    "\n",
    "img = preprocess_img(test_img) # padding and resizing input image into 384x288\n",
    "img = np.array(img)/255.\n",
    "img = np.expand_dims(np.transpose(img,(2,0,1)),axis=0)\n",
    "img = torch.from_numpy(img)\n",
    "img = img.type(torch.FloatTensor).to(device)\n",
    "pred_saliency = model(img)\n",
    "toPIL = transforms.ToPILImage()\n",
    "pic = toPIL(pred_saliency.squeeze())\n",
    "\n",
    "pred_saliency = postprocess_img(pic, test_img) # restore the image to its original size as the result\n",
    "\n",
    "cv2.imwrite(r'example/sticker.png', pred_saliency, [int(cv2.IMWRITE_JPEG_QUALITY), 100]) # save the result\n",
    "print('Finished, check the result at: {}'.format(r'example/result.png'))"
   ]
  },
  {
   "cell_type": "code",
   "execution_count": null,
   "id": "8d8141af",
   "metadata": {},
   "outputs": [],
   "source": [
    "test_img = r'./example/BenchmarkIMAGES/i33.jpg' \n",
    "\n",
    "img = preprocess_img(test_img) # padding and resizing input image into 384x288\n",
    "\n",
    "\n",
    "cv2.imwrite(r'example/result.png', img, [int(cv2.IMWRITE_JPEG_QUALITY), 100]) # save the result\n",
    "print('Finished, check the result at: {}'.format(r'example/result.png'))"
   ]
  },
  {
   "cell_type": "code",
   "execution_count": null,
   "id": "6bb138a4",
   "metadata": {},
   "outputs": [],
   "source": [
    "from platform import python_version\n",
    "python_version()"
   ]
  }
 ],
 "metadata": {
  "kernelspec": {
   "display_name": "Python 3.8 (tensorflow)",
   "language": "python",
   "name": "tensorflow"
  },
  "language_info": {
   "codemirror_mode": {
    "name": "ipython",
    "version": 3
   },
   "file_extension": ".py",
   "mimetype": "text/x-python",
   "name": "python",
   "nbconvert_exporter": "python",
   "pygments_lexer": "ipython3",
   "version": "3.9.12"
  }
 },
 "nbformat": 4,
 "nbformat_minor": 5
}
